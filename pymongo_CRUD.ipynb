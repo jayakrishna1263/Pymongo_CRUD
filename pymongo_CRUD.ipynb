{
 "cells": [
  {
   "cell_type": "code",
   "execution_count": 2,
   "id": "b1e7a2b7",
   "metadata": {},
   "outputs": [
    {
     "name": "stdout",
     "output_type": "stream",
     "text": [
      "Defaulting to user installation because normal site-packages is not writeable\n",
      "Requirement already satisfied: pymongo in c:\\users\\dasar\\appdata\\roaming\\python\\python39\\site-packages (4.5.0)\n",
      "Requirement already satisfied: dnspython<3.0.0,>=1.16.0 in c:\\users\\dasar\\appdata\\roaming\\python\\python39\\site-packages (from pymongo) (2.4.2)\n",
      "Note: you may need to restart the kernel to use updated packages.\n"
     ]
    }
   ],
   "source": [
    "pip install pymongo"
   ]
  },
  {
   "cell_type": "code",
   "execution_count": 3,
   "id": "6e1dbd34",
   "metadata": {},
   "outputs": [],
   "source": [
    "import pymongo"
   ]
  },
  {
   "cell_type": "code",
   "execution_count": 4,
   "id": "c1078e2b",
   "metadata": {},
   "outputs": [],
   "source": [
    "client=pymongo.MongoClient('mongodb://127.0.0.1:27017/')"
   ]
  },
  {
   "cell_type": "code",
   "execution_count": 6,
   "id": "e1284a17",
   "metadata": {},
   "outputs": [],
   "source": [
    "mydb=client[\"Employee1\"]"
   ]
  },
  {
   "cell_type": "code",
   "execution_count": 7,
   "id": "138df3b8",
   "metadata": {},
   "outputs": [],
   "source": [
    "info=mydb.empinfo"
   ]
  },
  {
   "cell_type": "code",
   "execution_count": 8,
   "id": "813b6ef5",
   "metadata": {},
   "outputs": [],
   "source": [
    "record={\n",
    "    \"fName\":\"Jk\",\n",
    "    \"lName\":\"d\",\n",
    "    \"dept\":\"cse\"\n",
    "}"
   ]
  },
  {
   "cell_type": "code",
   "execution_count": 9,
   "id": "8f2d55b1",
   "metadata": {},
   "outputs": [
    {
     "data": {
      "text/plain": [
       "<pymongo.results.InsertOneResult at 0x2325a3ebbe0>"
      ]
     },
     "execution_count": 9,
     "metadata": {},
     "output_type": "execute_result"
    }
   ],
   "source": [
    "info.insert_one(record)"
   ]
  },
  {
   "cell_type": "code",
   "execution_count": 29,
   "id": "ab7952b4",
   "metadata": {},
   "outputs": [],
   "source": [
    "records=[{\n",
    "    \"fName\":\"Jk4\",\n",
    "    \"lName\":\"d4\",\n",
    "    \"dept\":\"ece\",\n",
    "    \"age\":22\n",
    "    },\n",
    "    {\n",
    "    \"fName\":\"Jk5\",\n",
    "    \"lName\":\"d5\",\n",
    "    \"dept\":\"ece\",\n",
    "    \"age\":25\n",
    "    },\n",
    "     {\n",
    "    \"fName\":\"Jk6\",\n",
    "    \"lName\":\"d6\",\n",
    "    \"dept\":\"ece\",\n",
    "    \"age\":30\n",
    "    },\n",
    "    {\n",
    "    \"fName\":\"Jk7\",\n",
    "    \"lName\":\"d7\",\n",
    "    \"dept\":\"ece\",\n",
    "    \"age\":35\n",
    "    }\n",
    "]"
   ]
  },
  {
   "cell_type": "code",
   "execution_count": 30,
   "id": "2a62999a",
   "metadata": {},
   "outputs": [
    {
     "data": {
      "text/plain": [
       "<pymongo.results.InsertManyResult at 0x2325bf81070>"
      ]
     },
     "execution_count": 30,
     "metadata": {},
     "output_type": "execute_result"
    }
   ],
   "source": [
    "info.insert_many(records)"
   ]
  },
  {
   "cell_type": "code",
   "execution_count": 17,
   "id": "9d2dfc12",
   "metadata": {},
   "outputs": [
    {
     "data": {
      "text/plain": [
       "{'_id': ObjectId('64edfdeb714cb7fc07ed1e08'),\n",
       " 'fName': 'Jk',\n",
       " 'lName': 'd',\n",
       " 'dept': 'cse'}"
      ]
     },
     "execution_count": 17,
     "metadata": {},
     "output_type": "execute_result"
    }
   ],
   "source": [
    "info.find_one()"
   ]
  },
  {
   "cell_type": "code",
   "execution_count": 18,
   "id": "5ffde05b",
   "metadata": {},
   "outputs": [
    {
     "data": {
      "text/plain": [
       "<pymongo.cursor.Cursor at 0x2325c1f6ee0>"
      ]
     },
     "execution_count": 18,
     "metadata": {},
     "output_type": "execute_result"
    }
   ],
   "source": [
    "info.find()"
   ]
  },
  {
   "cell_type": "code",
   "execution_count": 35,
   "id": "64dafe06",
   "metadata": {},
   "outputs": [
    {
     "name": "stdout",
     "output_type": "stream",
     "text": [
      "{'_id': ObjectId('64edfdeb714cb7fc07ed1e08'), 'fName': 'Jk', 'lName': 'd', 'dept': 'cse'}\n",
      "{'_id': ObjectId('64edff8a714cb7fc07ed1e09'), 'fName': 'Jk1', 'lName': 'd1', 'dept': 'cse'}\n",
      "{'_id': ObjectId('64edff8a714cb7fc07ed1e0a'), 'fName': 'Jk2', 'lName': 'd2', 'dept': 'cse'}\n",
      "{'_id': ObjectId('64ee15eb714cb7fc07ed1e0b'), 'fName': 'Jk4', 'lName': 'd4', 'dept': 'ece', 'age': 22}\n",
      "{'_id': ObjectId('64ee15eb714cb7fc07ed1e0c'), 'fName': 'Jk5', 'lName': 'd5', 'dept': 'ece', 'age': 25}\n",
      "{'_id': ObjectId('64ee15eb714cb7fc07ed1e0d'), 'fName': 'Jk6', 'lName': 'd6', 'dept': 'ece', 'age': 30}\n",
      "{'_id': ObjectId('64ee15eb714cb7fc07ed1e0e'), 'fName': 'Jk7', 'lName': 'd7', 'dept': 'ece', 'age': 35}\n"
     ]
    }
   ],
   "source": [
    "for record in info.find():\n",
    "    print(record)"
   ]
  },
  {
   "cell_type": "code",
   "execution_count": 36,
   "id": "8920fea4",
   "metadata": {},
   "outputs": [
    {
     "name": "stdout",
     "output_type": "stream",
     "text": [
      "{'_id': ObjectId('64edfdeb714cb7fc07ed1e08'), 'fName': 'Jk', 'lName': 'd', 'dept': 'cse'}\n",
      "{'_id': ObjectId('64edff8a714cb7fc07ed1e09'), 'fName': 'Jk1', 'lName': 'd1', 'dept': 'cse'}\n",
      "{'_id': ObjectId('64edff8a714cb7fc07ed1e0a'), 'fName': 'Jk2', 'lName': 'd2', 'dept': 'cse'}\n",
      "{'_id': ObjectId('64ee15eb714cb7fc07ed1e0b'), 'fName': 'Jk4', 'lName': 'd4', 'dept': 'ece', 'age': 22}\n",
      "{'_id': ObjectId('64ee15eb714cb7fc07ed1e0c'), 'fName': 'Jk5', 'lName': 'd5', 'dept': 'ece', 'age': 25}\n",
      "{'_id': ObjectId('64ee15eb714cb7fc07ed1e0d'), 'fName': 'Jk6', 'lName': 'd6', 'dept': 'ece', 'age': 30}\n",
      "{'_id': ObjectId('64ee15eb714cb7fc07ed1e0e'), 'fName': 'Jk7', 'lName': 'd7', 'dept': 'ece', 'age': 35}\n"
     ]
    }
   ],
   "source": [
    "for record in info.find({}):\n",
    "    print(record)"
   ]
  },
  {
   "cell_type": "code",
   "execution_count": 37,
   "id": "dadd1d96",
   "metadata": {},
   "outputs": [
    {
     "name": "stdout",
     "output_type": "stream",
     "text": [
      "{'_id': ObjectId('64edff8a714cb7fc07ed1e09'), 'fName': 'Jk1', 'lName': 'd1', 'dept': 'cse'}\n"
     ]
    }
   ],
   "source": [
    "for record in info.find({\"fName\":\"Jk1\"}):\n",
    "    print(record)"
   ]
  },
  {
   "cell_type": "code",
   "execution_count": 40,
   "id": "ab132c25",
   "metadata": {},
   "outputs": [
    {
     "name": "stdout",
     "output_type": "stream",
     "text": [
      "{'_id': ObjectId('64edff8a714cb7fc07ed1e09'), 'fName': 'Jk1', 'lName': 'd1', 'dept': 'cse'}\n",
      "{'_id': ObjectId('64edff8a714cb7fc07ed1e0a'), 'fName': 'Jk2', 'lName': 'd2', 'dept': 'cse'}\n"
     ]
    }
   ],
   "source": [
    "for record in info.find({\"lName\":{\"$in\":[\"d1\",\"d2\"]}}):\n",
    "    print(record)"
   ]
  },
  {
   "cell_type": "code",
   "execution_count": 41,
   "id": "4c1e7e19",
   "metadata": {},
   "outputs": [
    {
     "name": "stdout",
     "output_type": "stream",
     "text": [
      "{'_id': ObjectId('64ee15eb714cb7fc07ed1e0b'), 'fName': 'Jk4', 'lName': 'd4', 'dept': 'ece', 'age': 22}\n",
      "{'_id': ObjectId('64ee15eb714cb7fc07ed1e0c'), 'fName': 'Jk5', 'lName': 'd5', 'dept': 'ece', 'age': 25}\n"
     ]
    }
   ],
   "source": [
    "for record in info.find({\"age\":{\"$lt\":30}}):\n",
    "    print(record)"
   ]
  },
  {
   "cell_type": "code",
   "execution_count": 42,
   "id": "98b5f706",
   "metadata": {},
   "outputs": [
    {
     "name": "stdout",
     "output_type": "stream",
     "text": [
      "{'_id': ObjectId('64ee15eb714cb7fc07ed1e0b'), 'fName': 'Jk4', 'lName': 'd4', 'dept': 'ece', 'age': 22}\n"
     ]
    }
   ],
   "source": [
    "for record in info.find({\"fName\":\"Jk4\",\"age\":{\"$lt\":30}}):\n",
    "    print(record)"
   ]
  },
  {
   "cell_type": "code",
   "execution_count": 44,
   "id": "81b3ef5e",
   "metadata": {},
   "outputs": [
    {
     "name": "stdout",
     "output_type": "stream",
     "text": [
      "{'_id': ObjectId('64edfdeb714cb7fc07ed1e08'), 'fName': 'Jk', 'lName': 'd', 'dept': 'cse'}\n",
      "{'_id': ObjectId('64ee15eb714cb7fc07ed1e0b'), 'fName': 'Jk4', 'lName': 'd4', 'dept': 'ece', 'age': 22}\n"
     ]
    }
   ],
   "source": [
    "for record in info.find({\"$or\":[{\"fName\":\"Jk\"},{\"age\":22}]}):\n",
    "    print(record)"
   ]
  },
  {
   "cell_type": "code",
   "execution_count": 47,
   "id": "112199b2",
   "metadata": {},
   "outputs": [
    {
     "name": "stdout",
     "output_type": "stream",
     "text": [
      "{'_id': ObjectId('64ee15eb714cb7fc07ed1e0d'), 'fName': 'Jk6', 'lName': 'd6', 'dept': 'ece', 'age': 30}\n",
      "{'_id': ObjectId('64ee15eb714cb7fc07ed1e0e'), 'fName': 'Jk7', 'lName': 'd7', 'dept': 'ece', 'age': 35}\n"
     ]
    }
   ],
   "source": [
    "for record in info.find({\"$and\":[{\"dept\":\"ece\"},{\"age\":{\"$gt\":25}}]}):\n",
    "    print(record)"
   ]
  },
  {
   "cell_type": "code",
   "execution_count": null,
   "id": "30bc6991",
   "metadata": {},
   "outputs": [],
   "source": []
  },
  {
   "cell_type": "code",
   "execution_count": 48,
   "id": "de3eea34",
   "metadata": {},
   "outputs": [],
   "source": [
    "inventory=mydb.inventory"
   ]
  },
  {
   "cell_type": "code",
   "execution_count": 49,
   "id": "35f92650",
   "metadata": {},
   "outputs": [],
   "source": [
    "inventory.insert_many( [\n",
    "   { 'item': \"journal\", 'qty': 25, 'size': { 'h': 14, 'w': 21,'uom': \"cm\" }, 'status': \"A\" },\n",
    "   { 'item': \"notebook\", 'qty': 50,'size': { 'h': 8.5, 'w': 11,'uom': \"in\" },'status': \"A\" },\n",
    "   { 'item': \"paper\", 'qty': 100, 'size': { 'h': 8.5, 'w': 11,'uom': \"in\" },'status': \"D\" },\n",
    "   { 'item': \"planner\", 'qty': 75, 'size': { 'h': 22.85,'w': 30,'uom': \"cm\" },'status': \"D\" },\n",
    "   { 'item': \"postcard\", 'qty': 45, 'size': { 'h': 10, 'w': 15.25,'uom': \"cm\" },'status': \"A\" }\n",
    "]);"
   ]
  },
  {
   "cell_type": "code",
   "execution_count": 50,
   "id": "f85a99d0",
   "metadata": {},
   "outputs": [
    {
     "name": "stdout",
     "output_type": "stream",
     "text": [
      "{'_id': ObjectId('64ee186e714cb7fc07ed1e0f'), 'item': 'journal', 'qty': 25, 'size': {'h': 14, 'w': 21, 'uom': 'cm'}, 'status': 'A'}\n",
      "{'_id': ObjectId('64ee186e714cb7fc07ed1e10'), 'item': 'notebook', 'qty': 50, 'size': {'h': 8.5, 'w': 11, 'uom': 'in'}, 'status': 'A'}\n",
      "{'_id': ObjectId('64ee186e714cb7fc07ed1e11'), 'item': 'paper', 'qty': 100, 'size': {'h': 8.5, 'w': 11, 'uom': 'in'}, 'status': 'D'}\n",
      "{'_id': ObjectId('64ee186e714cb7fc07ed1e12'), 'item': 'planner', 'qty': 75, 'size': {'h': 22.85, 'w': 30, 'uom': 'cm'}, 'status': 'D'}\n",
      "{'_id': ObjectId('64ee186e714cb7fc07ed1e13'), 'item': 'postcard', 'qty': 45, 'size': {'h': 10, 'w': 15.25, 'uom': 'cm'}, 'status': 'A'}\n"
     ]
    }
   ],
   "source": [
    "for record in inventory.find():\n",
    "    print(record)"
   ]
  },
  {
   "cell_type": "code",
   "execution_count": 51,
   "id": "94959683",
   "metadata": {},
   "outputs": [
    {
     "name": "stdout",
     "output_type": "stream",
     "text": [
      "{'_id': ObjectId('64ee186e714cb7fc07ed1e0f'), 'item': 'journal', 'qty': 25, 'size': {'h': 14, 'w': 21, 'uom': 'cm'}, 'status': 'A'}\n"
     ]
    }
   ],
   "source": [
    "for record in inventory.find({\"size\":{\"h\":14,\"w\":21,\"uom\":\"cm\"}}):\n",
    "    print(record)"
   ]
  },
  {
   "cell_type": "code",
   "execution_count": null,
   "id": "925e3bec",
   "metadata": {},
   "outputs": [],
   "source": []
  },
  {
   "cell_type": "code",
   "execution_count": 52,
   "id": "c40aecf1",
   "metadata": {},
   "outputs": [],
   "source": [
    "mydb=client[\"things\"]"
   ]
  },
  {
   "cell_type": "code",
   "execution_count": 53,
   "id": "de0b4e9f",
   "metadata": {},
   "outputs": [],
   "source": [
    "inventory=mydb.inventory\n"
   ]
  },
  {
   "cell_type": "code",
   "execution_count": 54,
   "id": "c4b5edb0",
   "metadata": {},
   "outputs": [
    {
     "data": {
      "text/plain": [
       "<pymongo.results.InsertManyResult at 0x2325c2792e0>"
      ]
     },
     "execution_count": 54,
     "metadata": {},
     "output_type": "execute_result"
    }
   ],
   "source": [
    "inventory.insert_many([\n",
    "    {\"item\": \"canvas\",\n",
    "     \"qty\": 100,\n",
    "     \"size\": {\"h\": 28, \"w\": 35.5, \"uom\": \"cm\"},\n",
    "     \"status\": \"A\"},\n",
    "    {\"item\": \"journal\",\n",
    "     \"qty\": 25,\n",
    "     \"size\": {\"h\": 14, \"w\": 21, \"uom\": \"cm\"},\n",
    "     \"status\": \"A\"},\n",
    "    {\"item\": \"mat\",\n",
    "     \"qty\": 85,\n",
    "     \"size\": {\"h\": 27.9, \"w\": 35.5, \"uom\": \"cm\"},\n",
    "     \"status\": \"A\"},\n",
    "    {\"item\": \"mousepad\",\n",
    "     \"qty\": 25,\n",
    "     \"size\": {\"h\": 19, \"w\": 22.85, \"uom\": \"cm\"},\n",
    "     \"status\": \"P\"},\n",
    "    {\"item\": \"notebook\",\n",
    "     \"qty\": 50,\n",
    "     \"size\": {\"h\": 8.5, \"w\": 11, \"uom\": \"in\"},\n",
    "     \"status\": \"P\"},\n",
    "    {\"item\": \"paper\",\n",
    "     \"qty\": 100,\n",
    "     \"size\": {\"h\": 8.5, \"w\": 11, \"uom\": \"in\"},\n",
    "     \"status\": \"D\"},\n",
    "    {\"item\": \"planner\",\n",
    "     \"qty\": 75,\n",
    "     \"size\": {\"h\": 22.85, \"w\": 30, \"uom\": \"cm\"},\n",
    "     \"status\": \"D\"},\n",
    "    {\"item\": \"postcard\",\n",
    "     \"qty\": 45,\n",
    "     \"size\": {\"h\": 10, \"w\": 15.25, \"uom\": \"cm\"},\n",
    "     \"status\": \"A\"},\n",
    "    {\"item\": \"sketchbook\",\n",
    "     \"qty\": 80,\n",
    "     \"size\": {\"h\": 14, \"w\": 21, \"uom\": \"cm\"},\n",
    "     \"status\": \"A\"},\n",
    "    {\"item\": \"sketch pad\",\n",
    "     \"qty\": 95,\n",
    "     \"size\": {\"h\": 22.85, \"w\": 30.5, \"uom\": \"cm\"},\n",
    "     \"status\": \"A\"}])"
   ]
  },
  {
   "cell_type": "code",
   "execution_count": 56,
   "id": "2b6e2533",
   "metadata": {},
   "outputs": [
    {
     "data": {
      "text/plain": [
       "<pymongo.results.UpdateResult at 0x2325bf81490>"
      ]
     },
     "execution_count": 56,
     "metadata": {},
     "output_type": "execute_result"
    }
   ],
   "source": [
    "inventory.update_one(\n",
    "    {\"item\":\"sketch pad\"},\n",
    "    {\"$set\":{\"size.uom\":\"m\",\"status\":\"P\"},\n",
    "     \"$currentDate\":{\"lastmodified\":True}\n",
    "    }\n",
    ")"
   ]
  },
  {
   "cell_type": "code",
   "execution_count": 59,
   "id": "ea71d85f",
   "metadata": {},
   "outputs": [
    {
     "ename": "ValueError",
     "evalue": "update only works with $ operators",
     "output_type": "error",
     "traceback": [
      "\u001b[1;31m---------------------------------------------------------------------------\u001b[0m",
      "\u001b[1;31mValueError\u001b[0m                                Traceback (most recent call last)",
      "Input \u001b[1;32mIn [59]\u001b[0m, in \u001b[0;36m<cell line: 1>\u001b[1;34m()\u001b[0m\n\u001b[1;32m----> 1\u001b[0m \u001b[43minventory\u001b[49m\u001b[38;5;241;43m.\u001b[39;49m\u001b[43mupdate_one\u001b[49m\u001b[43m(\u001b[49m\n\u001b[0;32m      2\u001b[0m \u001b[43m    \u001b[49m\u001b[43m{\u001b[49m\u001b[38;5;124;43m\"\u001b[39;49m\u001b[38;5;124;43mitem\u001b[39;49m\u001b[38;5;124;43m\"\u001b[39;49m\u001b[43m:\u001b[49m\u001b[38;5;124;43m\"\u001b[39;49m\u001b[38;5;124;43msketch pad\u001b[39;49m\u001b[38;5;124;43m\"\u001b[39;49m\u001b[43m}\u001b[49m\u001b[43m,\u001b[49m\n\u001b[0;32m      3\u001b[0m \u001b[43m    \u001b[49m\u001b[43m{\u001b[49m\u001b[38;5;124;43m\"\u001b[39;49m\u001b[38;5;124;43mstore\u001b[39;49m\u001b[38;5;124;43m\"\u001b[39;49m\u001b[43m:\u001b[49m\u001b[38;5;124;43m\"\u001b[39;49m\u001b[38;5;124;43mhyd_zudio\u001b[39;49m\u001b[38;5;124;43m\"\u001b[39;49m\u001b[43m}\u001b[49m\n\u001b[0;32m      4\u001b[0m \u001b[43m)\u001b[49m\n",
      "File \u001b[1;32m~\\AppData\\Roaming\\Python\\Python39\\site-packages\\pymongo\\collection.py:1083\u001b[0m, in \u001b[0;36mCollection.update_one\u001b[1;34m(self, filter, update, upsert, bypass_document_validation, collation, array_filters, hint, session, let, comment)\u001b[0m\n\u001b[0;32m   1003\u001b[0m \u001b[38;5;124;03m\"\"\"Update a single document matching the filter.\u001b[39;00m\n\u001b[0;32m   1004\u001b[0m \n\u001b[0;32m   1005\u001b[0m \u001b[38;5;124;03m  >>> for doc in db.test.find():\u001b[39;00m\n\u001b[1;32m   (...)\u001b[0m\n\u001b[0;32m   1080\u001b[0m \u001b[38;5;124;03m.. versionadded:: 3.0\u001b[39;00m\n\u001b[0;32m   1081\u001b[0m \u001b[38;5;124;03m\"\"\"\u001b[39;00m\n\u001b[0;32m   1082\u001b[0m common\u001b[38;5;241m.\u001b[39mvalidate_is_mapping(\u001b[38;5;124m\"\u001b[39m\u001b[38;5;124mfilter\u001b[39m\u001b[38;5;124m\"\u001b[39m, \u001b[38;5;28mfilter\u001b[39m)\n\u001b[1;32m-> 1083\u001b[0m \u001b[43mcommon\u001b[49m\u001b[38;5;241;43m.\u001b[39;49m\u001b[43mvalidate_ok_for_update\u001b[49m\u001b[43m(\u001b[49m\u001b[43mupdate\u001b[49m\u001b[43m)\u001b[49m\n\u001b[0;32m   1084\u001b[0m common\u001b[38;5;241m.\u001b[39mvalidate_list_or_none(\u001b[38;5;124m\"\u001b[39m\u001b[38;5;124marray_filters\u001b[39m\u001b[38;5;124m\"\u001b[39m, array_filters)\n\u001b[0;32m   1086\u001b[0m write_concern \u001b[38;5;241m=\u001b[39m \u001b[38;5;28mself\u001b[39m\u001b[38;5;241m.\u001b[39m_write_concern_for(session)\n",
      "File \u001b[1;32m~\\AppData\\Roaming\\Python\\Python39\\site-packages\\pymongo\\common.py:621\u001b[0m, in \u001b[0;36mvalidate_ok_for_update\u001b[1;34m(update)\u001b[0m\n\u001b[0;32m    619\u001b[0m first \u001b[38;5;241m=\u001b[39m \u001b[38;5;28mnext\u001b[39m(\u001b[38;5;28miter\u001b[39m(update))\n\u001b[0;32m    620\u001b[0m \u001b[38;5;28;01mif\u001b[39;00m is_document \u001b[38;5;129;01mand\u001b[39;00m \u001b[38;5;129;01mnot\u001b[39;00m first\u001b[38;5;241m.\u001b[39mstartswith(\u001b[38;5;124m\"\u001b[39m\u001b[38;5;124m$\u001b[39m\u001b[38;5;124m\"\u001b[39m):\n\u001b[1;32m--> 621\u001b[0m     \u001b[38;5;28;01mraise\u001b[39;00m \u001b[38;5;167;01mValueError\u001b[39;00m(\u001b[38;5;124m\"\u001b[39m\u001b[38;5;124mupdate only works with $ operators\u001b[39m\u001b[38;5;124m\"\u001b[39m)\n",
      "\u001b[1;31mValueError\u001b[0m: update only works with $ operators"
     ]
    }
   ],
   "source": [
    "inventory.update_one(\n",
    "    {\"item\":\"sketch pad\"},\n",
    "    {\"store\":\"hyd_zudio\"}\n",
    ")"
   ]
  },
  {
   "cell_type": "code",
   "execution_count": 58,
   "id": "acb0283c",
   "metadata": {},
   "outputs": [
    {
     "data": {
      "text/plain": [
       "<pymongo.results.UpdateResult at 0x2325a66ca00>"
      ]
     },
     "execution_count": 58,
     "metadata": {},
     "output_type": "execute_result"
    }
   ],
   "source": [
    "inventory.update_one(\n",
    "    {\"item\":\"sketch pad\"},\n",
    "    {\"$set\":{\"store\":\"hyd_zudio\"}}\n",
    ")"
   ]
  },
  {
   "cell_type": "code",
   "execution_count": 60,
   "id": "4d6840a6",
   "metadata": {},
   "outputs": [
    {
     "data": {
      "text/plain": [
       "<pymongo.results.UpdateResult at 0x2325c016460>"
      ]
     },
     "execution_count": 60,
     "metadata": {},
     "output_type": "execute_result"
    }
   ],
   "source": [
    "inventory.update_many(\n",
    "    {\"qty\":{\"$lt\":50}},\n",
    "    {\"$set\":{\"size.uom\":\"in\",\"status\":\"p\"},\n",
    "    \"$currentDate\":{\"lastmodified\":True}}\n",
    ")"
   ]
  },
  {
   "cell_type": "code",
   "execution_count": 61,
   "id": "f1d3fd3a",
   "metadata": {},
   "outputs": [
    {
     "data": {
      "text/plain": [
       "<pymongo.results.UpdateResult at 0x2325c62dc40>"
      ]
     },
     "execution_count": 61,
     "metadata": {},
     "output_type": "execute_result"
    }
   ],
   "source": [
    "inventory.replace_one(\n",
    "    {\"item\":\"paper\"},\n",
    "    {\"item\":\"paper\",\n",
    "        \"instock\":[\n",
    "                    {\"warehouse\":\"A\",\"qty\":60},\n",
    "                    {\"warehouse\":\"B\",\"qty\":40}\n",
    "                ]\n",
    "    }\n",
    ")"
   ]
  },
  {
   "cell_type": "code",
   "execution_count": 62,
   "id": "c562e0b9",
   "metadata": {},
   "outputs": [],
   "source": [
    "# To delete all documents\n",
    "# inventory.delete_many({})\n",
    "\n",
    "#To delete all documents from the inventory collection where the qty equals 50\n",
    "#inventory.delete_many( { \"qty\": 50 } )\n",
    "\n",
    "#To delete the first document from the inventory collection where the qty equals 50\"\n",
    "#even though multiple documents may match the specified filter, it deletes first matched doc only\n",
    "#inventory.delete_one( { \"qty\": 50 } )"
   ]
  },
  {
   "cell_type": "code",
   "execution_count": null,
   "id": "e55bc1e4",
   "metadata": {},
   "outputs": [],
   "source": []
  },
  {
   "cell_type": "code",
   "execution_count": null,
   "id": "067ed41e",
   "metadata": {},
   "outputs": [],
   "source": []
  },
  {
   "cell_type": "code",
   "execution_count": null,
   "id": "566f21ef",
   "metadata": {},
   "outputs": [],
   "source": []
  },
  {
   "cell_type": "code",
   "execution_count": null,
   "id": "d9a72fe2",
   "metadata": {},
   "outputs": [],
   "source": []
  }
 ],
 "metadata": {
  "kernelspec": {
   "display_name": "Python 3 (ipykernel)",
   "language": "python",
   "name": "python3"
  },
  "language_info": {
   "codemirror_mode": {
    "name": "ipython",
    "version": 3
   },
   "file_extension": ".py",
   "mimetype": "text/x-python",
   "name": "python",
   "nbconvert_exporter": "python",
   "pygments_lexer": "ipython3",
   "version": "3.9.12"
  }
 },
 "nbformat": 4,
 "nbformat_minor": 5
}
